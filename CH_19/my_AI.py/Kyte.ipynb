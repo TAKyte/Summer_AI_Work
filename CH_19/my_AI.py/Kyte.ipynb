{
 "cells": [
  {
   "cell_type": "markdown",
   "metadata": {},
   "source": [
    "## Jupyter notebook for cancer neural network\n",
    "This neural network is based off the google colab video on building a deep neural network to identify cancer cells\n",
    "The output of the network predicts if a cell is malignant or benign.\n",
    "\n",
    "### Dataset \n",
    "The data set used to train and test this model is a modification of the wdbc data from\n",
    "https://archive.ics.uci.edu/ml/machine-learning-databases/breast-cancer-wisconsin/\n",
    "I selected this data as its an easy classification model to show how neural networks function\n",
    "\n",
    "#### The code\n",
    "the first step is to import pandas for our data handling and read in our data set\n"
   ]
  },
  {
   "cell_type": "code",
   "execution_count": 1,
   "metadata": {},
   "outputs": [],
   "source": [
    "import pandas as pd\n",
    "#data set\n",
    "ds = pd.read_csv(\"cancer.csv\")\n",
    "# x data set is the dataset without the results so drop the first column\n",
    "x = ds.drop(columns=\"diagnosis(1=m, 0=b)\")\n",
    "# y is just the known results\n",
    "y=ds[\"diagnosis(1=m, 0=b)\"]"
   ]
  },
  {
   "cell_type": "markdown",
   "metadata": {},
   "source": [
    "Now we have the data split into just the variables and the results. However like the tensor flow video this must be broke down into a training and testing set.\n",
    "\n",
    "I ended up using the sklearn AI tool as this had a way to split the data in the same way as the video while the keras api only appeared to have a way to split the data into to parts."
   ]
  },
  {
   "cell_type": "code",
   "execution_count": 2,
   "metadata": {},
   "outputs": [],
   "source": [
    "from sklearn.model_selection import train_test_split\n",
    "x_train, x_test, y_train, y_test = train_test_split(x, y, test_size=0.15) "
   ]
  },
  {
   "cell_type": "markdown",
   "metadata": {},
   "source": [
    "The data set is now split so 15% of the data is in the testing set and the rest of the data is in the training set.\n",
    "\n",
    "With our data set ready we can now start to set up the network. For this I am using the keras API for python.\n",
    "\n",
    "To initialize the network the input dimension will be set to thirty since x contains 30 features defining each cell.\n",
    "\n",
    "for the layers I am starting with 32 and dropping by half each time until there is one output predicting if the cell is malignant of benign. The reason for starting with 32 is so its not exactly the same as the tutorial. "
   ]
  },
  {
   "cell_type": "code",
   "execution_count": 3,
   "metadata": {},
   "outputs": [],
   "source": [
    "from keras.models import Sequential\n",
    "from keras.layers import Dense\n",
    "\n",
    "# Initialize the neural network\n",
    "classifier = Sequential()\n",
    "# Layers \n",
    "classifier.add(Dense(units = 32, activation = 'relu', input_dim = 30))\n",
    "classifier.add(Dense(units = 16, activation = 'relu'))\n",
    "classifier.add(Dense(units = 8, activation = 'relu'))\n",
    "classifier.add(Dense(units = 6, activation = 'relu'))\n",
    "classifier.add(Dense(units = 1, activation = 'sigmoid'))"
   ]
  },
  {
   "cell_type": "markdown",
   "metadata": {},
   "source": [
    "With the network defined we now have to define the optimizer and loss functions. Unlike our textbook where we had to program the functions ourself it is instead handled by keras.\n",
    "\n",
    "I am using adam since it is the most widely used optimizer and binary cross entropy since there are only two possible outputs."
   ]
  },
  {
   "cell_type": "code",
   "execution_count": 4,
   "metadata": {},
   "outputs": [],
   "source": [
    "classifier.compile(optimizer = 'adam', loss = 'binary_crossentropy')"
   ]
  },
  {
   "cell_type": "markdown",
   "metadata": {},
   "source": [
    "Now the network must be trained this is again made easy by keras where we just need to use the fit function and pass in the training data, the correct output for the training data, the size of the batches to test in, and how many times to run through the training.\n",
    "\n",
    "As a quick reminder batch size is the number of training examples in one forward/backward pass\n",
    "Epochs is the number of times to run training samples. so in this case we are running one example at a time 150 times."
   ]
  },
  {
   "cell_type": "code",
   "execution_count": 5,
   "metadata": {},
   "outputs": [
    {
     "name": "stdout",
     "output_type": "stream",
     "text": [
      "Epoch 1/150\n",
      "483/483 [==============================] - 1s 634us/step - loss: 3.5782\n",
      "Epoch 2/150\n",
      "483/483 [==============================] - 0s 631us/step - loss: 0.5115\n",
      "Epoch 3/150\n",
      "483/483 [==============================] - 0s 620us/step - loss: 0.3838\n",
      "Epoch 4/150\n",
      "483/483 [==============================] - 0s 608us/step - loss: 0.4246\n",
      "Epoch 5/150\n",
      "483/483 [==============================] - 0s 622us/step - loss: 0.3690\n",
      "Epoch 6/150\n",
      "483/483 [==============================] - 0s 628us/step - loss: 0.2731\n",
      "Epoch 7/150\n",
      "483/483 [==============================] - 0s 639us/step - loss: 0.3162\n",
      "Epoch 8/150\n",
      "483/483 [==============================] - 0s 625us/step - loss: 0.2874\n",
      "Epoch 9/150\n",
      "483/483 [==============================] - 0s 617us/step - loss: 0.2922\n",
      "Epoch 10/150\n",
      "483/483 [==============================] - 0s 622us/step - loss: 0.3972\n",
      "Epoch 11/150\n",
      "483/483 [==============================] - 0s 617us/step - loss: 0.5765\n",
      "Epoch 12/150\n",
      "483/483 [==============================] - 0s 635us/step - loss: 0.5340\n",
      "Epoch 13/150\n",
      "483/483 [==============================] - 0s 631us/step - loss: 0.4864\n",
      "Epoch 14/150\n",
      "483/483 [==============================] - 0s 651us/step - loss: 0.4091\n",
      "Epoch 15/150\n",
      "483/483 [==============================] - 0s 665us/step - loss: 0.2988\n",
      "Epoch 16/150\n",
      "483/483 [==============================] - 0s 667us/step - loss: 0.3938\n",
      "Epoch 17/150\n",
      "483/483 [==============================] - 0s 684us/step - loss: 0.3242\n",
      "Epoch 18/150\n",
      "483/483 [==============================] - 0s 726us/step - loss: 0.2661\n",
      "Epoch 19/150\n",
      "483/483 [==============================] - 0s 641us/step - loss: 0.2584\n",
      "Epoch 20/150\n",
      "483/483 [==============================] - 0s 685us/step - loss: 0.2360\n",
      "Epoch 21/150\n",
      "483/483 [==============================] - 0s 635us/step - loss: 0.2533\n",
      "Epoch 22/150\n",
      "483/483 [==============================] - 0s 639us/step - loss: 0.2514\n",
      "Epoch 23/150\n",
      "483/483 [==============================] - 0s 627us/step - loss: 0.4647\n",
      "Epoch 24/150\n",
      "483/483 [==============================] - 0s 637us/step - loss: 0.2697\n",
      "Epoch 25/150\n",
      "483/483 [==============================] - 0s 666us/step - loss: 0.2514\n",
      "Epoch 26/150\n",
      "483/483 [==============================] - 0s 709us/step - loss: 0.2736\n",
      "Epoch 27/150\n",
      "483/483 [==============================] - 0s 758us/step - loss: 0.2425\n",
      "Epoch 28/150\n",
      "483/483 [==============================] - 0s 837us/step - loss: 0.2320\n",
      "Epoch 29/150\n",
      "483/483 [==============================] - 0s 719us/step - loss: 0.2305\n",
      "Epoch 30/150\n",
      "483/483 [==============================] - 0s 746us/step - loss: 0.2464\n",
      "Epoch 31/150\n",
      "483/483 [==============================] - 0s 785us/step - loss: 0.2396\n",
      "Epoch 32/150\n",
      "483/483 [==============================] - 0s 903us/step - loss: 0.2309\n",
      "Epoch 33/150\n",
      "483/483 [==============================] - 0s 735us/step - loss: 0.2506\n",
      "Epoch 34/150\n",
      "483/483 [==============================] - 0s 670us/step - loss: 0.2367\n",
      "Epoch 35/150\n",
      "483/483 [==============================] - 0s 620us/step - loss: 0.2495\n",
      "Epoch 36/150\n",
      "483/483 [==============================] - 0s 637us/step - loss: 0.2369\n",
      "Epoch 37/150\n",
      "483/483 [==============================] - 0s 656us/step - loss: 0.2716\n",
      "Epoch 38/150\n",
      "483/483 [==============================] - 0s 634us/step - loss: 0.2234\n",
      "Epoch 39/150\n",
      "483/483 [==============================] - 0s 616us/step - loss: 0.2928\n",
      "Epoch 40/150\n",
      "483/483 [==============================] - 0s 720us/step - loss: 0.2267\n",
      "Epoch 41/150\n",
      "483/483 [==============================] - 0s 649us/step - loss: 0.2390\n",
      "Epoch 42/150\n",
      "483/483 [==============================] - 0s 812us/step - loss: 0.2613\n",
      "Epoch 43/150\n",
      "483/483 [==============================] - 0s 620us/step - loss: 0.2304\n",
      "Epoch 44/150\n",
      "483/483 [==============================] - 0s 613us/step - loss: 0.2391\n",
      "Epoch 45/150\n",
      "483/483 [==============================] - 0s 613us/step - loss: 0.2318\n",
      "Epoch 46/150\n",
      "483/483 [==============================] - 0s 605us/step - loss: 0.2604\n",
      "Epoch 47/150\n",
      "483/483 [==============================] - 0s 607us/step - loss: 0.2111\n",
      "Epoch 48/150\n",
      "483/483 [==============================] - 0s 604us/step - loss: 0.2079\n",
      "Epoch 49/150\n",
      "483/483 [==============================] - 0s 624us/step - loss: 0.2179\n",
      "Epoch 50/150\n",
      "483/483 [==============================] - 0s 613us/step - loss: 0.2357\n",
      "Epoch 51/150\n",
      "483/483 [==============================] - 0s 607us/step - loss: 0.2220\n",
      "Epoch 52/150\n",
      "483/483 [==============================] - 0s 613us/step - loss: 0.2485\n",
      "Epoch 53/150\n",
      "483/483 [==============================] - 0s 609us/step - loss: 0.2304\n",
      "Epoch 54/150\n",
      "483/483 [==============================] - 0s 611us/step - loss: 0.2103\n",
      "Epoch 55/150\n",
      "483/483 [==============================] - 0s 615us/step - loss: 0.2281\n",
      "Epoch 56/150\n",
      "483/483 [==============================] - 0s 613us/step - loss: 0.2162\n",
      "Epoch 57/150\n",
      "483/483 [==============================] - 0s 614us/step - loss: 0.1981\n",
      "Epoch 58/150\n",
      "483/483 [==============================] - 0s 615us/step - loss: 0.2015\n",
      "Epoch 59/150\n",
      "483/483 [==============================] - 0s 611us/step - loss: 0.2116\n",
      "Epoch 60/150\n",
      "483/483 [==============================] - 0s 610us/step - loss: 0.1859\n",
      "Epoch 61/150\n",
      "483/483 [==============================] - 0s 603us/step - loss: 0.2223\n",
      "Epoch 62/150\n",
      "483/483 [==============================] - 0s 608us/step - loss: 0.1990\n",
      "Epoch 63/150\n",
      "483/483 [==============================] - 0s 612us/step - loss: 0.1965\n",
      "Epoch 64/150\n",
      "483/483 [==============================] - 0s 613us/step - loss: 0.1995\n",
      "Epoch 65/150\n",
      "483/483 [==============================] - 0s 621us/step - loss: 0.2390\n",
      "Epoch 66/150\n",
      "483/483 [==============================] - 0s 615us/step - loss: 0.2152\n",
      "Epoch 67/150\n",
      "483/483 [==============================] - 0s 605us/step - loss: 0.2383\n",
      "Epoch 68/150\n",
      "483/483 [==============================] - 0s 613us/step - loss: 0.2010\n",
      "Epoch 69/150\n",
      "483/483 [==============================] - 0s 639us/step - loss: 0.1876\n",
      "Epoch 70/150\n",
      "483/483 [==============================] - 0s 613us/step - loss: 0.1880\n",
      "Epoch 71/150\n",
      "483/483 [==============================] - 0s 617us/step - loss: 0.1824\n",
      "Epoch 72/150\n",
      "483/483 [==============================] - 0s 620us/step - loss: 0.1807\n",
      "Epoch 73/150\n",
      "483/483 [==============================] - 0s 612us/step - loss: 0.2045\n",
      "Epoch 74/150\n",
      "483/483 [==============================] - 0s 602us/step - loss: 0.1853\n",
      "Epoch 75/150\n",
      "483/483 [==============================] - 0s 610us/step - loss: 0.1796\n",
      "Epoch 76/150\n",
      "483/483 [==============================] - 0s 616us/step - loss: 0.2021\n",
      "Epoch 77/150\n",
      "483/483 [==============================] - 0s 608us/step - loss: 0.1834\n",
      "Epoch 78/150\n",
      "483/483 [==============================] - 0s 623us/step - loss: 0.1972\n",
      "Epoch 79/150\n",
      "483/483 [==============================] - 0s 615us/step - loss: 0.2047\n",
      "Epoch 80/150\n",
      "483/483 [==============================] - 0s 612us/step - loss: 0.2038\n",
      "Epoch 81/150\n",
      "483/483 [==============================] - 0s 616us/step - loss: 0.1945\n",
      "Epoch 82/150\n",
      "483/483 [==============================] - 0s 615us/step - loss: 0.1931\n",
      "Epoch 83/150\n",
      "483/483 [==============================] - 0s 617us/step - loss: 0.2033\n",
      "Epoch 84/150\n",
      "483/483 [==============================] - 0s 608us/step - loss: 0.1789\n",
      "Epoch 85/150\n",
      "483/483 [==============================] - 0s 621us/step - loss: 0.1952\n",
      "Epoch 86/150\n",
      "483/483 [==============================] - 0s 607us/step - loss: 0.1859\n",
      "Epoch 87/150\n",
      "483/483 [==============================] - 0s 605us/step - loss: 0.1999\n",
      "Epoch 88/150\n",
      "483/483 [==============================] - 0s 602us/step - loss: 0.1874\n",
      "Epoch 89/150\n",
      "483/483 [==============================] - 0s 617us/step - loss: 0.2050\n",
      "Epoch 90/150\n",
      "483/483 [==============================] - 0s 615us/step - loss: 0.2093\n",
      "Epoch 91/150\n",
      "483/483 [==============================] - 0s 610us/step - loss: 0.1850\n",
      "Epoch 92/150\n",
      "483/483 [==============================] - 0s 644us/step - loss: 0.1839\n",
      "Epoch 93/150\n",
      "483/483 [==============================] - 0s 636us/step - loss: 0.1888\n",
      "Epoch 94/150\n",
      "483/483 [==============================] - 0s 635us/step - loss: 0.1933\n",
      "Epoch 95/150\n",
      "483/483 [==============================] - 0s 617us/step - loss: 0.2065\n",
      "Epoch 96/150\n",
      "483/483 [==============================] - 0s 624us/step - loss: 0.3713\n",
      "Epoch 97/150\n",
      "483/483 [==============================] - 0s 628us/step - loss: 0.1863\n",
      "Epoch 98/150\n",
      "483/483 [==============================] - 0s 615us/step - loss: 0.1980\n",
      "Epoch 99/150\n",
      "483/483 [==============================] - 0s 618us/step - loss: 0.1972\n",
      "Epoch 100/150\n",
      "483/483 [==============================] - 0s 609us/step - loss: 0.1876\n",
      "Epoch 101/150\n",
      "483/483 [==============================] - 0s 613us/step - loss: 0.1743\n",
      "Epoch 102/150\n",
      "483/483 [==============================] - 0s 610us/step - loss: 0.1830\n",
      "Epoch 103/150\n",
      "483/483 [==============================] - 0s 612us/step - loss: 0.1692\n",
      "Epoch 104/150\n",
      "483/483 [==============================] - 0s 618us/step - loss: 0.1999\n",
      "Epoch 105/150\n",
      "483/483 [==============================] - 0s 623us/step - loss: 0.1753\n",
      "Epoch 106/150\n",
      "483/483 [==============================] - 0s 611us/step - loss: 0.1633\n",
      "Epoch 107/150\n",
      "483/483 [==============================] - 0s 615us/step - loss: 0.1816\n",
      "Epoch 108/150\n",
      "483/483 [==============================] - 0s 610us/step - loss: 0.1693\n",
      "Epoch 109/150\n",
      "483/483 [==============================] - 0s 615us/step - loss: 0.1662\n",
      "Epoch 110/150\n",
      "483/483 [==============================] - 0s 612us/step - loss: 0.1772\n",
      "Epoch 111/150\n",
      "483/483 [==============================] - 0s 610us/step - loss: 0.1592\n",
      "Epoch 112/150\n",
      "483/483 [==============================] - 0s 622us/step - loss: 0.1661\n",
      "Epoch 113/150\n",
      "483/483 [==============================] - 0s 635us/step - loss: 0.2011\n",
      "Epoch 114/150\n",
      "483/483 [==============================] - 0s 614us/step - loss: 0.1554\n",
      "Epoch 115/150\n",
      "483/483 [==============================] - 0s 605us/step - loss: 0.1762\n",
      "Epoch 116/150\n",
      "483/483 [==============================] - 0s 615us/step - loss: 0.1742\n",
      "Epoch 117/150\n",
      "483/483 [==============================] - 0s 610us/step - loss: 0.1722\n",
      "Epoch 118/150\n",
      "483/483 [==============================] - 0s 611us/step - loss: 0.1545\n",
      "Epoch 119/150\n",
      "483/483 [==============================] - 0s 618us/step - loss: 0.1631\n",
      "Epoch 120/150\n",
      "483/483 [==============================] - 0s 617us/step - loss: 0.1774\n",
      "Epoch 121/150\n",
      "483/483 [==============================] - 0s 615us/step - loss: 0.1655\n",
      "Epoch 122/150\n",
      "483/483 [==============================] - 0s 608us/step - loss: 0.1564\n",
      "Epoch 123/150\n",
      "483/483 [==============================] - 0s 606us/step - loss: 0.1751\n",
      "Epoch 124/150\n",
      "483/483 [==============================] - 0s 618us/step - loss: 0.1732\n",
      "Epoch 125/150\n",
      "483/483 [==============================] - 0s 609us/step - loss: 0.1848\n",
      "Epoch 126/150\n",
      "483/483 [==============================] - 0s 615us/step - loss: 0.1624\n",
      "Epoch 127/150\n",
      "483/483 [==============================] - 0s 609us/step - loss: 0.1690\n",
      "Epoch 128/150\n",
      "483/483 [==============================] - 0s 610us/step - loss: 0.1841\n",
      "Epoch 129/150\n",
      "483/483 [==============================] - 0s 608us/step - loss: 0.1852\n",
      "Epoch 130/150\n",
      "483/483 [==============================] - 0s 615us/step - loss: 0.1713\n",
      "Epoch 131/150\n",
      "483/483 [==============================] - 0s 613us/step - loss: 0.1537\n",
      "Epoch 132/150\n",
      "483/483 [==============================] - 0s 620us/step - loss: 0.1683\n",
      "Epoch 133/150\n",
      "483/483 [==============================] - 0s 647us/step - loss: 0.1667\n",
      "Epoch 134/150\n",
      "483/483 [==============================] - 0s 627us/step - loss: 0.1694\n",
      "Epoch 135/150\n",
      "483/483 [==============================] - 0s 622us/step - loss: 0.1583\n",
      "Epoch 136/150\n",
      "483/483 [==============================] - 0s 629us/step - loss: 0.1847\n",
      "Epoch 137/150\n",
      "483/483 [==============================] - 0s 644us/step - loss: 0.1775\n",
      "Epoch 138/150\n",
      "483/483 [==============================] - 0s 626us/step - loss: 0.1664\n",
      "Epoch 139/150\n",
      "483/483 [==============================] - 0s 621us/step - loss: 0.1920\n",
      "Epoch 140/150\n",
      "483/483 [==============================] - 0s 614us/step - loss: 0.1438\n",
      "Epoch 141/150\n",
      "483/483 [==============================] - 0s 618us/step - loss: 0.1593\n",
      "Epoch 142/150\n",
      "483/483 [==============================] - 0s 606us/step - loss: 0.1657\n",
      "Epoch 143/150\n",
      "483/483 [==============================] - 0s 624us/step - loss: 0.1645\n",
      "Epoch 144/150\n",
      "483/483 [==============================] - 0s 615us/step - loss: 0.1634\n",
      "Epoch 145/150\n",
      "483/483 [==============================] - 0s 625us/step - loss: 0.1583\n",
      "Epoch 146/150\n",
      "483/483 [==============================] - 0s 617us/step - loss: 0.1425\n",
      "Epoch 147/150\n",
      "483/483 [==============================] - 0s 620us/step - loss: 0.1600\n",
      "Epoch 148/150\n",
      "483/483 [==============================] - 0s 622us/step - loss: 0.1595\n",
      "Epoch 149/150\n",
      "483/483 [==============================] - 0s 604us/step - loss: 0.1532\n",
      "Epoch 150/150\n",
      "483/483 [==============================] - 0s 617us/step - loss: 0.1661\n"
     ]
    }
   ],
   "source": [
    "# needed to graph data\n",
    "from keras.callbacks import History\n",
    "history = classifier.fit(x_train, y_train, batch_size = 1, epochs = 150)\n"
   ]
  },
  {
   "cell_type": "markdown",
   "metadata": {},
   "source": [
    "graph of loss as epochs increase"
   ]
  },
  {
   "cell_type": "code",
   "execution_count": 6,
   "metadata": {},
   "outputs": [
    {
     "name": "stdout",
     "output_type": "stream",
     "text": [
      "dict_keys(['loss'])\n"
     ]
    },
    {
     "data": {
      "image/png": "[encoded data removed]",
      "text/plain": [
       "<Figure size 432x288 with 1 Axes>"
      ]
     },
     "metadata": {
      "needs_background": "light"
     },
     "output_type": "display_data"
    }
   ],
   "source": [
    "from matplotlib import pyplot as plt\n",
    "plt.plot(history.history['loss'])\n",
    "plt.title('model loss over time')\n",
    "plt.ylabel('loss')\n",
    "plt.xlabel('epoch')\n",
    "plt.show()"
   ]
  },
  {
   "cell_type": "markdown",
   "metadata": {},
   "source": [
    "With the network now trained it is time to test the network on data it has never seen before.\n",
    "The prediction is also being clipped so if the confidence is over 50% it outputs a one and otherwise the output is a zero."
   ]
  },
  {
   "cell_type": "code",
   "execution_count": 7,
   "metadata": {},
   "outputs": [
    {
     "name": "stdout",
     "output_type": "stream",
     "text": [
      "3/3 [==============================] - 0s 1ms/step\n"
     ]
    }
   ],
   "source": [
    "y_pred = classifier.predict(x_test)\n",
    "y_pred = [ 1 if y>=0.5 else 0 for y in y_pred ]"
   ]
  },
  {
   "cell_type": "markdown",
   "metadata": {},
   "source": [
    "The final part of this code is taking these y predictions and comparing them with out y test data. If the prediction is correct than the correct counter is incremented and if it is incorrect than the incorrect counter is incremented. It will also display the testing accuracy."
   ]
  },
  {
   "cell_type": "code",
   "execution_count": 8,
   "metadata": {},
   "outputs": [
    {
     "name": "stdout",
     "output_type": "stream",
     "text": [
      "Accuracy 0.9186046511627907\n",
      "Correct 79\n",
      "incorrect 7\n"
     ]
    },
    {
     "data": {
      "image/png": "[encoded data removed]",
      "text/plain": [
       "<Figure size 432x288 with 1 Axes>"
      ]
     },
     "metadata": {},
     "output_type": "display_data"
    }
   ],
   "source": [
    "total = 0\n",
    "correct = 0\n",
    "incorrect = 0\n",
    "count = 0\n",
    "\n",
    "# loop all predictions\n",
    "for cell in y_test:\n",
    "  # check each position in array and if the known solution matches the prediction\n",
    "  if(cell == y_pred[total]):\n",
    "    correct=correct+1\n",
    "  else:\n",
    "    incorrect=incorrect+1\n",
    "  total=total+1\n",
    "\n",
    "print(\"Accuracy \" + str(correct/total))\n",
    "print(\"Correct \" + str(correct))\n",
    "print(\"incorrect \" + str(incorrect))\n",
    "\n",
    "fResults = [correct, incorrect]\n",
    "myLabels = [\"correct\", \"incorrect\"]\n",
    "myColors = [\"green\",\"red\"]\n",
    "# plot data, labels, colors, display percentiles\n",
    "plt.pie(fResults, labels=myLabels, colors=myColors, autopct='%1.1f%%', textprops={'color':\"w\"})\n",
    "plt.title(\"Neural network accuracy breakdown\",{'color':\"w\"})\n",
    "plt.show()"
   ]
  },
  {
   "cell_type": "markdown",
   "metadata": {},
   "source": [
    "## output\n",
    "The final output for this network should look similar to \n",
    "Accuracy 0.9651162790697675\n",
    "Correct 83\n",
    "incorrect 3\n",
    "\n",
    "this shows that out of the 86 pieces of test data 83 where correctly predicted giving an accuracy of 96.5%"
   ]
  }
 ],
 "metadata": {
  "kernelspec": {
   "display_name": "Python 3.10.4 64-bit",
   "language": "python",
   "name": "python3"
  },
  "language_info": {
   "codemirror_mode": {
    "name": "ipython",
    "version": 3
   },
   "file_extension": ".py",
   "mimetype": "text/x-python",
   "name": "python",
   "nbconvert_exporter": "python",
   "pygments_lexer": "ipython3",
   "version": "3.10.4"
  },
  "orig_nbformat": 4,
  "vscode": {
   "interpreter": {
    "hash": "162fe079a83448dd7537eabeefd475e7a24bc68e5a6b292e5cc25cd076f36a51"
   }
  }
 },
 "nbformat": 4,
 "nbformat_minor": 2
}
